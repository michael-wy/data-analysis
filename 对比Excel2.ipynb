{
 "cells": [
  {
   "cell_type": "code",
   "execution_count": 10,
   "metadata": {},
   "outputs": [
    {
     "name": "stdout",
     "output_type": "stream",
     "text": [
      "<class 'pandas.core.frame.DataFrame'>\n",
      "RangeIndex: 3744 entries, 0 to 3743\n",
      "Data columns (total 7 columns):\n",
      "商品ID    3478 non-null float64\n",
      "类别ID    3478 non-null float64\n",
      "门店编号    3478 non-null object\n",
      "单价      3478 non-null float64\n",
      "销量      3478 non-null float64\n",
      "成交时间    3478 non-null datetime64[ns]\n",
      "订单ID    3478 non-null object\n",
      "dtypes: datetime64[ns](1), float64(4), object(2)\n",
      "memory usage: 204.8+ KB\n"
     ]
    }
   ],
   "source": [
    "%matplotlib inline\n",
    "import pandas as pd\n",
    "from datetime import datetime\n",
    "data=pd.read_csv(r'H:\\对比Excel,轻松学习Python数据分析数据集\\order-14.1.csv',parse_dates=['成交时间'],encoding='gbk')\n",
    "#其中parse_dates参数表示将数据解析为时间格式\n",
    "data.head()#预览数据\n",
    "data.info()#查看源数据类型"
   ]
  },
  {
   "cell_type": "code",
   "execution_count": 11,
   "metadata": {},
   "outputs": [
    {
     "name": "stdout",
     "output_type": "stream",
     "text": [
      "本月销售额为:10412.78,客流量为:343,客单价为:30.36\n"
     ]
    }
   ],
   "source": [
    "This_month=data[(data['成交时间']>=datetime(2018,2,1))&(data['成交时间']<=datetime(2018,2,28))]\n",
    "sales_1=(This_month['销量']*This_month['单价']).sum()#销售额计算\n",
    "traffic_1=This_month['订单ID'].drop_duplicates().count()#客流量计算\n",
    "s_t_1=sales_1/traffic_1#客单价计算\n",
    "print('本月销售额为:{:.2f},客流量为:{},客单价为:{:.2f}'.format(sales_1,traffic_1,s_t_1))"
   ]
  },
  {
   "cell_type": "code",
   "execution_count": 12,
   "metadata": {},
   "outputs": [
    {
     "name": "stdout",
     "output_type": "stream",
     "text": [
      "本月销售额为:9940.97,客流量为:315,客单价为:31.56\n"
     ]
    }
   ],
   "source": [
    "last_month=data[(data['成交时间']>=datetime(2018,1,1))&(data['成交时间']<=datetime(2018,1,31))]\n",
    "sales_2=(last_month['销量']*last_month['单价']).sum()#销售额计算\n",
    "traffic_2=last_month['订单ID'].drop_duplicates().count()#客流量计算\n",
    "s_t_2=sales_2/traffic_2#客单价计算\n",
    "print('本月销售额为:{:.2f},客流量为:{},客单价为:{:.2f}'.format(sales_2,traffic_2,s_t_2))"
   ]
  },
  {
   "cell_type": "code",
   "execution_count": 13,
   "metadata": {},
   "outputs": [
    {
     "name": "stdout",
     "output_type": "stream",
     "text": [
      "本月销售额:9940.97,客流量为:315,客单价为:31.56\n"
     ]
    }
   ],
   "source": [
    "same_month=data[(data['成交时间']>=datetime(2017,2,1))&(data['成交时间']<=datetime(2017,2,28))]\n",
    "sales_3=(last_month['销量']*last_month['单价']).sum()#销售额计算\n",
    "traffic_3=last_month['订单ID'].drop_duplicates().count()\n",
    "s_t_3=sales_3/traffic_3#客户单价计算\n",
    "print('本月销售额:{:.2f},客流量为:{},客单价为:{:.2f}'.format(sales_3,traffic_3,s_t_3))"
   ]
  },
  {
   "cell_type": "code",
   "execution_count": 21,
   "metadata": {},
   "outputs": [],
   "source": [
    "def get_month_data(data):\n",
    "    sale=(data['单价']*data['销量']).sum()\n",
    "    traffic=data['订单ID'].drop_duplicates().count()\n",
    "    s_t=sale/traffic\n",
    "    return (sale,traffic,s_t)\n",
    "#计算本月相关指标\n",
    "sale_1,traffic_1,s_t_1=get_month_data(This_month)\n",
    "#计算上月相关指标\n",
    "sale_2,traffic_2,s_t_2=get_month_data(last_month)\n",
    "#计算去年同周期相关指标\n",
    "sale_3,traffic_3,s_t_3=get_month_data(same_month)"
   ]
  },
  {
   "cell_type": "code",
   "execution_count": 23,
   "metadata": {},
   "outputs": [
    {
     "data": {
      "text/html": [
       "<div>\n",
       "<style scoped>\n",
       "    .dataframe tbody tr th:only-of-type {\n",
       "        vertical-align: middle;\n",
       "    }\n",
       "\n",
       "    .dataframe tbody tr th {\n",
       "        vertical-align: top;\n",
       "    }\n",
       "\n",
       "    .dataframe thead th {\n",
       "        text-align: right;\n",
       "    }\n",
       "</style>\n",
       "<table border=\"1\" class=\"dataframe\">\n",
       "  <thead>\n",
       "    <tr style=\"text-align: right;\">\n",
       "      <th></th>\n",
       "      <th>本月累计</th>\n",
       "      <th>上月同期</th>\n",
       "      <th>去年同期</th>\n",
       "    </tr>\n",
       "  </thead>\n",
       "  <tbody>\n",
       "    <tr>\n",
       "      <th>销售额</th>\n",
       "      <td>10412.780070</td>\n",
       "      <td>9940.972910</td>\n",
       "      <td>8596.313470</td>\n",
       "    </tr>\n",
       "    <tr>\n",
       "      <th>客流量</th>\n",
       "      <td>343.000000</td>\n",
       "      <td>315.000000</td>\n",
       "      <td>262.000000</td>\n",
       "    </tr>\n",
       "    <tr>\n",
       "      <th>客单价</th>\n",
       "      <td>30.357959</td>\n",
       "      <td>31.558644</td>\n",
       "      <td>32.810357</td>\n",
       "    </tr>\n",
       "  </tbody>\n",
       "</table>\n",
       "</div>"
      ],
      "text/plain": [
       "             本月累计         上月同期         去年同期\n",
       "销售额  10412.780070  9940.972910  8596.313470\n",
       "客流量    343.000000   315.000000   262.000000\n",
       "客单价     30.357959    31.558644    32.810357"
      ]
     },
     "execution_count": 23,
     "metadata": {},
     "output_type": "execute_result"
    }
   ],
   "source": [
    "report=pd.DataFrame([[sale_1,sale_2,sale_3],[traffic_1,traffic_2,traffic_3],[s_t_1,s_t_2,s_t_3]],\n",
    "                   columns=['本月累计','上月同期','去年同期'],\n",
    "                   index=['销售额','客流量','客单价'])\n",
    "report"
   ]
  },
  {
   "cell_type": "code",
   "execution_count": 24,
   "metadata": {},
   "outputs": [
    {
     "data": {
      "text/html": [
       "<div>\n",
       "<style scoped>\n",
       "    .dataframe tbody tr th:only-of-type {\n",
       "        vertical-align: middle;\n",
       "    }\n",
       "\n",
       "    .dataframe tbody tr th {\n",
       "        vertical-align: top;\n",
       "    }\n",
       "\n",
       "    .dataframe thead th {\n",
       "        text-align: right;\n",
       "    }\n",
       "</style>\n",
       "<table border=\"1\" class=\"dataframe\">\n",
       "  <thead>\n",
       "    <tr style=\"text-align: right;\">\n",
       "      <th></th>\n",
       "      <th>本月累计</th>\n",
       "      <th>上月同期</th>\n",
       "      <th>去年同期</th>\n",
       "      <th>环比</th>\n",
       "      <th>同比</th>\n",
       "    </tr>\n",
       "  </thead>\n",
       "  <tbody>\n",
       "    <tr>\n",
       "      <th>销售额</th>\n",
       "      <td>10412.780070</td>\n",
       "      <td>9940.972910</td>\n",
       "      <td>8596.313470</td>\n",
       "      <td>0.047461</td>\n",
       "      <td>0.211308</td>\n",
       "    </tr>\n",
       "    <tr>\n",
       "      <th>客流量</th>\n",
       "      <td>343.000000</td>\n",
       "      <td>315.000000</td>\n",
       "      <td>262.000000</td>\n",
       "      <td>0.088889</td>\n",
       "      <td>0.309160</td>\n",
       "    </tr>\n",
       "    <tr>\n",
       "      <th>客单价</th>\n",
       "      <td>30.357959</td>\n",
       "      <td>31.558644</td>\n",
       "      <td>32.810357</td>\n",
       "      <td>-0.038046</td>\n",
       "      <td>-0.074745</td>\n",
       "    </tr>\n",
       "  </tbody>\n",
       "</table>\n",
       "</div>"
      ],
      "text/plain": [
       "             本月累计         上月同期         去年同期        环比        同比\n",
       "销售额  10412.780070  9940.972910  8596.313470  0.047461  0.211308\n",
       "客流量    343.000000   315.000000   262.000000  0.088889  0.309160\n",
       "客单价     30.357959    31.558644    32.810357 -0.038046 -0.074745"
      ]
     },
     "execution_count": 24,
     "metadata": {},
     "output_type": "execute_result"
    }
   ],
   "source": [
    "#添加同比和环比字段\n",
    "report['环比']=report['本月累计']/report['上月同期']-1\n",
    "report['同比']=report['本月累计']/report['去年同期']-1\n",
    "report"
   ]
  },
  {
   "cell_type": "code",
   "execution_count": 25,
   "metadata": {},
   "outputs": [],
   "source": [
    "report.to_csv(r'H:\\对比Excel,轻松学习Python数据分析数据集\\典型数据分析案例\\order.csv',encoding='utf-8-sig')"
   ]
  },
  {
   "cell_type": "code",
   "execution_count": 32,
   "metadata": {},
   "outputs": [
    {
     "data": {
      "text/html": [
       "<div>\n",
       "<style scoped>\n",
       "    .dataframe tbody tr th:only-of-type {\n",
       "        vertical-align: middle;\n",
       "    }\n",
       "\n",
       "    .dataframe tbody tr th {\n",
       "        vertical-align: top;\n",
       "    }\n",
       "\n",
       "    .dataframe thead th {\n",
       "        text-align: right;\n",
       "    }\n",
       "</style>\n",
       "<table border=\"1\" class=\"dataframe\">\n",
       "  <thead>\n",
       "    <tr style=\"text-align: right;\">\n",
       "      <th></th>\n",
       "      <th>Unnamed: 0</th>\n",
       "      <th>本月累计</th>\n",
       "      <th>上月同期</th>\n",
       "      <th>去年同期</th>\n",
       "      <th>环比</th>\n",
       "      <th>同比</th>\n",
       "    </tr>\n",
       "  </thead>\n",
       "  <tbody>\n",
       "    <tr>\n",
       "      <th>0</th>\n",
       "      <td>销售额</td>\n",
       "      <td>10412.780070</td>\n",
       "      <td>9940.972910</td>\n",
       "      <td>8596.313470</td>\n",
       "      <td>0.047461</td>\n",
       "      <td>0.211308</td>\n",
       "    </tr>\n",
       "    <tr>\n",
       "      <th>1</th>\n",
       "      <td>客流量</td>\n",
       "      <td>343.000000</td>\n",
       "      <td>315.000000</td>\n",
       "      <td>262.000000</td>\n",
       "      <td>0.088889</td>\n",
       "      <td>0.309160</td>\n",
       "    </tr>\n",
       "    <tr>\n",
       "      <th>2</th>\n",
       "      <td>客单价</td>\n",
       "      <td>30.357959</td>\n",
       "      <td>31.558644</td>\n",
       "      <td>32.810357</td>\n",
       "      <td>-0.038046</td>\n",
       "      <td>-0.074745</td>\n",
       "    </tr>\n",
       "  </tbody>\n",
       "</table>\n",
       "</div>"
      ],
      "text/plain": [
       "  Unnamed: 0          本月累计         上月同期         去年同期        环比        同比\n",
       "0        销售额  10412.780070  9940.972910  8596.313470  0.047461  0.211308\n",
       "1        客流量    343.000000   315.000000   262.000000  0.088889  0.309160\n",
       "2        客单价     30.357959    31.558644    32.810357 -0.038046 -0.074745"
      ]
     },
     "execution_count": 32,
     "metadata": {},
     "output_type": "execute_result"
    }
   ],
   "source": [
    "df=pd.read_csv(r'H:\\对比Excel,轻松学习Python数据分析数据集\\典型数据分析案例\\order.csv',encoding='utf-8-sig')\n",
    "df"
   ]
  },
  {
   "cell_type": "code",
   "execution_count": null,
   "metadata": {},
   "outputs": [],
   "source": []
  },
  {
   "cell_type": "code",
   "execution_count": null,
   "metadata": {},
   "outputs": [],
   "source": []
  },
  {
   "cell_type": "code",
   "execution_count": null,
   "metadata": {},
   "outputs": [],
   "source": []
  },
  {
   "cell_type": "code",
   "execution_count": null,
   "metadata": {},
   "outputs": [],
   "source": []
  },
  {
   "cell_type": "code",
   "execution_count": null,
   "metadata": {},
   "outputs": [],
   "source": []
  },
  {
   "cell_type": "code",
   "execution_count": null,
   "metadata": {},
   "outputs": [],
   "source": []
  },
  {
   "cell_type": "code",
   "execution_count": null,
   "metadata": {},
   "outputs": [],
   "source": []
  },
  {
   "cell_type": "code",
   "execution_count": null,
   "metadata": {},
   "outputs": [],
   "source": []
  },
  {
   "cell_type": "code",
   "execution_count": null,
   "metadata": {},
   "outputs": [],
   "source": []
  },
  {
   "cell_type": "code",
   "execution_count": null,
   "metadata": {},
   "outputs": [],
   "source": []
  },
  {
   "cell_type": "code",
   "execution_count": null,
   "metadata": {},
   "outputs": [],
   "source": []
  },
  {
   "cell_type": "code",
   "execution_count": null,
   "metadata": {},
   "outputs": [],
   "source": []
  },
  {
   "cell_type": "code",
   "execution_count": null,
   "metadata": {},
   "outputs": [],
   "source": []
  },
  {
   "cell_type": "code",
   "execution_count": null,
   "metadata": {},
   "outputs": [],
   "source": []
  },
  {
   "cell_type": "code",
   "execution_count": null,
   "metadata": {},
   "outputs": [],
   "source": []
  },
  {
   "cell_type": "code",
   "execution_count": null,
   "metadata": {},
   "outputs": [],
   "source": []
  },
  {
   "cell_type": "code",
   "execution_count": null,
   "metadata": {},
   "outputs": [],
   "source": []
  },
  {
   "cell_type": "code",
   "execution_count": null,
   "metadata": {},
   "outputs": [],
   "source": []
  },
  {
   "cell_type": "code",
   "execution_count": null,
   "metadata": {},
   "outputs": [],
   "source": []
  }
 ],
 "metadata": {
  "kernelspec": {
   "display_name": "Python 3",
   "language": "python",
   "name": "python3"
  },
  "language_info": {
   "codemirror_mode": {
    "name": "ipython",
    "version": 3
   },
   "file_extension": ".py",
   "mimetype": "text/x-python",
   "name": "python",
   "nbconvert_exporter": "python",
   "pygments_lexer": "ipython3",
   "version": "3.7.3"
  }
 },
 "nbformat": 4,
 "nbformat_minor": 2
}
